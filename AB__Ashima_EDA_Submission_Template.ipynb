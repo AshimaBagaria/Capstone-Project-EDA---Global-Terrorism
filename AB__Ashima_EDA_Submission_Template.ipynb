{
  "nbformat": 4,
  "nbformat_minor": 0,
  "metadata": {
    "colab": {
      "private_outputs": true,
      "provenance": [],
      "collapsed_sections": [
        "PH-0ReGfmX4f",
        "mDgbUHAGgjLW",
        "fge-S5ZAYoAp",
        "85gYPyotYoAp",
        "RoGjAbkUYoAp",
        "QHF8YVU7Yuh3",
        "GwzvFGzlYuh3",
        "qYpmQ266Yuh3",
        "gIfDvo9L0UH2"
      ],
      "include_colab_link": true
    },
    "kernelspec": {
      "name": "python3",
      "display_name": "Python 3"
    },
    "language_info": {
      "name": "python"
    }
  },
  "cells": [
    {
      "cell_type": "markdown",
      "metadata": {
        "id": "view-in-github",
        "colab_type": "text"
      },
      "source": [
        "<a href=\"https://colab.research.google.com/github/AshimaBagaria/Capstone-Project-EDA---Global-Terrorism/blob/main/AB__Ashima_EDA_Submission_Template.ipynb\" target=\"_parent\"><img src=\"https://colab.research.google.com/assets/colab-badge.svg\" alt=\"Open In Colab\"/></a>"
      ]
    },
    {
      "cell_type": "markdown",
      "source": [
        "# **Project Name**    - \n",
        "\n",
        "Global Terrorism Dataset Analysis"
      ],
      "metadata": {
        "id": "vncDsAP0Gaoa"
      }
    },
    {
      "cell_type": "markdown",
      "source": [
        "##### **Project Type**    - EDA\n",
        "##### **Contribution**    - Individual\n",
        "##### **Team Member 1 -**   Ashima Bagaria\n"
      ],
      "metadata": {
        "id": "beRrZCGUAJYm"
      }
    },
    {
      "cell_type": "code",
      "source": [
        "from google.colab import drive\n",
        "drive.mount('/content/drive')"
      ],
      "metadata": {
        "id": "e4XaF2gygApz"
      },
      "execution_count": null,
      "outputs": []
    },
    {
      "cell_type": "markdown",
      "source": [
        "# **Project Summary -**"
      ],
      "metadata": {
        "id": "FJNUwmbgGyua"
      }
    },
    {
      "cell_type": "markdown",
      "source": [
        "The term \"Terrorism\" is devided from Latin Word \"Terror\" , which refers to \"Great Fear\". The word \"Terrorism\" was first used during \"French Revolution\" in the year 1795.\n",
        "\n",
        "We are group of five people, we choose Global Terrorism for our project. This global Terrorism dataset has the record of attacks in between 1970 to 2017 .\n",
        "\n",
        "In this Global Terrorism dataset it contains the information/columns are - iyear(Attack Year) , imonth (attack Month) , idate(Attack Date) , approxdate , extended , resolution , country ,country_txt , regoin , region_txt , provstate , city , latitude , longitude , specificity , vicinity , location , summary , crit1 , crit2 , crit3 , doubtterr , alternative , alternative_txt , multiple , success , suicide , attacktype1 , attacktype1_txt , attacktype2 , attacktype2_txt , attacktype3 , attacktype3_txt , targtype1 , targtype1_txt , targsubtype1 , targsubtype1_txt , corp1 , target1 , natlty1 , natlty1_txt , targtype2 , targtype2_txt , targsubtype2 , targsubtype2_txt , corp2 , target2 , natlty2 natlty2_txt , gname(Gang Name) , gsubname(Gang Subname) , gname2 , gsubname2 , motive , guncertain1 , guncertain2 , guncertain3 , individual , nperps , nperpcap , claimed, claimmode , claimmode_txt , claim2 , claimmode2 , claimmode2_txt , weaptype1 , weaptype1_txt , weapsubtype1 , weapsubtype1_txt ,weaptype2 , weaptype2_txt , weapsubtype2 , weapsubtype2_txt , weaptype3 , weaptype3_txt , weapsubtype3 , weapsubtype3_txt , weapdetail , nkill , nkillus , nkillter , nwound , nwoundus , nwoundte , property , propextent , propextent_txt , propvalue , propcomment , ishostkid , nhostkid ,nhostkidus , nhours , ndays , divert , kidhijcountry , ransom , ransomamt , ransomamtus , ransompaid , hostkidoutcome , hostkidoutcome_txt , nreleased , addnotes , scite1 , scite2 , scite3 , dbsource , INT_LOG , INT_IDEO , INT_MISC , INT_ANY , related.\n",
        "\n",
        "Lets describe each and every column. In this Global Terrorisim dataset the column iyear represents the attacking year in between 1970-2017, and the column imonth represents the month of the attacks & the column idate represents the day of the twrrorist attacks in world wide.\n",
        "\n",
        "Then we have the column approxdate it shows the actual date of the attacks had done in the past , and the column extended shows that from the actual day of attack till how many days the attack had done, and the column resolution shows that the final date of the attacks.\n",
        "\n",
        "The column country basically shows the country code of the perticular county and the column country_txt shows the all the country name which have gone through under the terrorist attcks in the time period of 1970 to 2017.\n",
        "\n",
        "The column region shows the region code of the perticular region and the column region_txt shows the region name for the region which have the region code shows. The column provstate shows the state of the country which have the main target for the terrorits, the column city shows the list of cities of the state which have under attack of the terrorist.\n",
        "\n",
        "Then we have the columnlatitude and it shows the latitude of the city or the attack place of the city in which the attack had done in the time period, and the column longitude shows the longitude of the city or the attack place of the city in which the attack had done in the time period. and then the coumn specificity shows the actual no of attacks in the city. and the column vicinity shows the vicinity of the attacks.\n",
        "\n",
        "The column location shows the location of the attacks or the place where the terrorist are attacked , and the column summary brifely shows the date of the attack, type of the attack , how many terrorist are there in the part of the attack and which type of wepons they are used an dwhom to target and how much damages then done through the attack & which type of property they are targeted like private property or government property.\n",
        "\n",
        "Then we have the column crit1 , crit2 , crit3 , and all these three columns shows that the crit of the attacks & the column alternative shows the no of alternative attacks of the the day are made in the terrorist attacks , & the column alternative_txt that shows the type of alternatve attacks in the perticular day in which the terrorist are attacked.\n",
        "\n",
        "The column multiple shows the multiple attacks in the perticular day by the terrorist, and the column success shows the sucess of the attacks in which the terrorist are attacked, and the column sucide shows the sucide of the terrorists who ever paer of the attack.\n",
        "\n",
        "Then we have the columns attacktype1 , attacktype2 , attacktype3 and all these columns shows the no of attack types in the worldwide attack. and the column attacktype1_txt shows the type of attacks which the terrorist are attacked like (Assassination,Hostage Taking/Kidnapping,Bombing/Explosion..etc.\n",
        "\n",
        "Then the column targtype1 shows the no of type of targets, and the column targtype1_txt shows the target type which the terrorist are targeted, and the column targsubtype1 shows the no the targets expect the main target which have terrorist are targeted,and the column targsubtype1_txt type of sub targets expect the main target which have terrorist are targeted.\n",
        "\n",
        "Then we have the columns corp1 & target1 and both the columns shows the type of governmrnt office & defence targets which have terrorist are targeted and the column natlty1 shows the country code and the column natlty1_txt shows the country name in the above cuontry code have shown.\n",
        "\n",
        "Then we have the column gname (Group Name) it shows the group name of the terrorists groups. then the column motive shows the motive of the terrorist why they are attacked in the perticular country, then the columns guncertain1 , guncertain2 , guncertain3 above all the columns shows the certain type of guns have used in the terrorist attacks.\n",
        "\n",
        "Then we have the column individual and it shows the group of people or individual terrorist are in the terrorist attacks, and the columns nperps and nerpcap shows the nerp of the terrorist attacks. and then the columns claimed, claimmode , claimmode_txt and these columns explained the no claims and the type of the no of claims may it letter format or in other format.\n",
        "\n",
        "Then we have the column weaptype1 , weaptype2 ,weaptype3 , weapsubtype1 , weaptype2 , weaptype3 and all the above columns shows the no of wepon types are used in the terrorist attacks, and the columns weaptype1_txt , weaptype2_txt , weaptype3_txt , weapsubtype1_txt , weapsubtype2_txt , weapsubtype3_txt and all these above columns shows that the type of wepons are used in the terrorist attacks like theere are (Gasoline or Alcohol,Explosives,Incendiary,Pipe Bomb,Hand Gun etc..) then we have the columns weapdetail which provides all the details of wepon type are used in the terrorist attack.\n",
        "\n",
        "Then we havw the column property and propextent it shows the number of property which have the terrorists are demand, and the column propextent_txt shows the type of property which have the terrorists are demand. Then the column propvalue and it shows the value of the property which the the terrorists are demand.\n",
        "\n",
        "Then the column kidhijcountry it shows the coutry of attacks are done and the columns ransom,ransomamtus , ransompaid and these columns shows that the terrorist how much randsome amount demand and how much the authorith have paid.\n",
        "\n",
        "Then the columns hostkidoutcome , hostkidoutcome_txt , nreleased these colums shows that the how much people are hostages and how much hostages are released by the terrorrists. and the columns scite1 , scite2 , scite3 , shows that how the hostages are being released by the officers.\n",
        "\n",
        "Through this project we aim to answer the following questions:\n",
        "\n",
        "As a security/defence analyst, try to find out the hot zone of terrorism. What causes the strained relationship between countries like Pakistan and Afghanistan? How dreadful were the Boko Harams in Nigeria? How safe id Mumbai after 26/11/2008? Study the patterns of Naxalism in the Indian states. What all security issues and insights you can derive by EDA?"
      ],
      "metadata": {
        "id": "F6v_1wHtG2nS"
      }
    },
    {
      "cell_type": "markdown",
      "source": [
        "# **GitHub Link -**"
      ],
      "metadata": {
        "id": "w6K7xa23Elo4"
      }
    },
    {
      "cell_type": "markdown",
      "source": [
        "Provide your GitHub Link here."
      ],
      "metadata": {
        "id": "h1o69JH3Eqqn"
      }
    },
    {
      "cell_type": "markdown",
      "source": [
        "# **Problem Statement**\n"
      ],
      "metadata": {
        "id": "yQaldy8SH6Dl"
      }
    },
    {
      "cell_type": "markdown",
      "source": [
        "The promotion and protection of human rights\n",
        "while countering terrorism is a matter of priority.\n",
        "\n",
        "Just like terrorism impacts human rights and the functioning of society,so can measures adopted by States to counter terrorism.\n",
        "\n",
        "As terrorism has a serious impact on a range of fundamental\n",
        "human rights, States have not only a right but a duty to take effective\n",
        "counter-terrorism measures. \n",
        "\n",
        "Effective counter-terrorism measures and the\n",
        "protection of human rights are complementary and mutually reinforcing\n",
        "objectives which must be pursued together as part of States’ duty to\n",
        "protect individuals within their jurisdiction.\n",
        "\n",
        "Through this project we aim to analyse the impact of terrorism on human life & society and discuss the measures which states can take to fortify their defences against terrorism"
      ],
      "metadata": {
        "id": "DpeJGUA3kjGy"
      }
    },
    {
      "cell_type": "markdown",
      "source": [
        "#### **Define Your Business Objective?**"
      ],
      "metadata": {
        "id": "PH-0ReGfmX4f"
      }
    },
    {
      "cell_type": "markdown",
      "source": [
        "Thousands of researchers, analysts, policy-makers, and students use the Global Terrorism Database(GTD) every day. We aim to better understand the strengths and limitations of the present security agents through an intensive study of this database. The objective is to analyse the causes and consequences of terrorism through a detailed analysis of the GTD."
      ],
      "metadata": {
        "id": "PhDvGCAqmjP1"
      }
    },
    {
      "cell_type": "markdown",
      "source": [
        "# **General Guidelines** : -  "
      ],
      "metadata": {
        "id": "mDgbUHAGgjLW"
      }
    },
    {
      "cell_type": "markdown",
      "source": [
        "1.   Well-structured, formatted, and commented code is required. \n",
        "2.   Exception Handling, Production Grade Code & Deployment Ready Code will be a plus. Those students will be awarded some additional credits. \n",
        "     \n",
        "     The additional credits will have advantages over other students during Star Student selection.\n",
        "       \n",
        "             [ Note: - Deployment Ready Code is defined as, the whole .ipynb notebook should be executable in one go\n",
        "                       without a single error logged. ]\n",
        "\n",
        "3.   Each and every logic should have proper comments.\n",
        "4. You may add as many number of charts you want. Make Sure for each and every chart the following format should be answered.\n",
        "        \n",
        "\n",
        "```\n",
        "# Chart visualization code\n",
        "```\n",
        "            \n",
        "\n",
        "*   Why did you pick the specific chart?\n",
        "*   What is/are the insight(s) found from the chart?\n",
        "* Will the gained insights help creating a positive business impact? \n",
        "Are there any insights that lead to negative growth? Justify with specific reason.\n",
        "\n",
        "5. You have to create at least 20 logical & meaningful charts having important insights.\n",
        "\n",
        "\n",
        "[ Hints : - Do the Vizualization in  a structured way while following \"UBM\" Rule. \n",
        "\n",
        "U - Univariate Analysis,\n",
        "\n",
        "B - Bivariate Analysis (Numerical - Categorical, Numerical - Numerical, Categorical - Categorical)\n",
        "\n",
        "M - Multivariate Analysis\n",
        " ]\n",
        "\n",
        "\n",
        "\n"
      ],
      "metadata": {
        "id": "ZrxVaUj-hHfC"
      }
    },
    {
      "cell_type": "markdown",
      "source": [
        "# ***Let's Begin !***"
      ],
      "metadata": {
        "id": "O_i_v8NEhb9l"
      }
    },
    {
      "cell_type": "markdown",
      "source": [
        "## ***1. Know Your Data***"
      ],
      "metadata": {
        "id": "HhfV-JJviCcP"
      }
    },
    {
      "cell_type": "markdown",
      "source": [
        "### Import Libraries"
      ],
      "metadata": {
        "id": "Y3lxredqlCYt"
      }
    },
    {
      "cell_type": "code",
      "source": [
        "# Import Libraries\n",
        "import numpy as np\n",
        "import pandas as pd\n",
        "import matplotlib.pyplot as plt\n",
        "import seaborn as sns\n",
        "from datetime import datetime\n",
        "from datetime import date\n"
      ],
      "metadata": {
        "id": "M8Vqi-pPk-HR"
      },
      "execution_count": null,
      "outputs": []
    },
    {
      "cell_type": "markdown",
      "source": [
        "### Dataset Loading"
      ],
      "metadata": {
        "id": "3RnN4peoiCZX"
      }
    },
    {
      "cell_type": "code",
      "source": [
        "# Load Dataset\n",
        "\n",
        "try:\n",
        "  file_path = '/content/drive/MyDrive/Global Terrorism Data.csv'\n",
        "  terror_master_data_full  =pd.read_csv(file_path,encoding=\"ISO-8859-1\")\n",
        "except Exception as e:\n",
        "  print(e)\n",
        "\n"
      ],
      "metadata": {
        "id": "4CkvbW_SlZ_R"
      },
      "execution_count": null,
      "outputs": []
    },
    {
      "cell_type": "markdown",
      "source": [
        "### Dataset First View"
      ],
      "metadata": {
        "id": "x71ZqKXriCWQ"
      }
    },
    {
      "cell_type": "code",
      "source": [
        "# Dataset First Look\n",
        "\n",
        "rows = len(terror_master_data_full.axes[0])\n",
        "columns = len(terror_master_data_full.axes[1])\n",
        "\n",
        "terror_master_data_full"
      ],
      "metadata": {
        "id": "LWNFOSvLl09H"
      },
      "execution_count": null,
      "outputs": []
    },
    {
      "cell_type": "markdown",
      "source": [
        "### Dataset Rows & Columns count"
      ],
      "metadata": {
        "id": "7hBIi_osiCS2"
      }
    },
    {
      "cell_type": "code",
      "source": [
        "# Dataset Rows & Columns count\n",
        "terror_master_data_full.shape"
      ],
      "metadata": {
        "id": "Kllu7SJgmLij"
      },
      "execution_count": null,
      "outputs": []
    },
    {
      "cell_type": "markdown",
      "source": [
        "### Dataset Information"
      ],
      "metadata": {
        "id": "JlHwYmJAmNHm"
      }
    },
    {
      "cell_type": "code",
      "source": [
        "# Dataset Info\n",
        "terror_master_data_full.info()"
      ],
      "metadata": {
        "id": "e9hRXRi6meOf"
      },
      "execution_count": null,
      "outputs": []
    },
    {
      "cell_type": "markdown",
      "source": [
        "#### Missing Values/Null Values"
      ],
      "metadata": {
        "id": "PoPl-ycgm1ru"
      }
    },
    {
      "cell_type": "code",
      "source": [
        "# Missing Values/Null Values Count\n",
        "terror_master_data_full.isna().sum()"
      ],
      "metadata": {
        "id": "GgHWkxvamxVg"
      },
      "execution_count": null,
      "outputs": []
    },
    {
      "cell_type": "markdown",
      "source": [
        "### What did you know about your dataset?"
      ],
      "metadata": {
        "id": "H0kj-8xxnORC"
      }
    },
    {
      "cell_type": "markdown",
      "source": [
        "We understood the values in the columns provided. We analysed the dataset and understood that it covers details of all terrorist attacks from 1970 to 2017 globally.\n",
        "The data set provided us values of locations, date, terrorist group responsible, weapons used, targets , casualities etc.\n",
        "We also found some column headings vague and decided to not incluse them in our analysis."
      ],
      "metadata": {
        "id": "gfoNAAC-nUe_"
      }
    },
    {
      "cell_type": "markdown",
      "source": [
        "## ***2. Understanding Your Variables***"
      ],
      "metadata": {
        "id": "nA9Y7ga8ng1Z"
      }
    },
    {
      "cell_type": "code",
      "source": [
        "# Dataset Columns\n",
        "columns_list = list(terror_master_data_full.columns)"
      ],
      "metadata": {
        "id": "j7xfkqrt5Ag5"
      },
      "execution_count": null,
      "outputs": []
    },
    {
      "cell_type": "code",
      "source": [
        "# Dataset Describe\n",
        "terror_master_data_full.describe()"
      ],
      "metadata": {
        "id": "DnOaZdaE5Q5t"
      },
      "execution_count": null,
      "outputs": []
    },
    {
      "cell_type": "markdown",
      "source": [
        "### Check Unique Values for each variable."
      ],
      "metadata": {
        "id": "u3PMJOP6ngxN"
      }
    },
    {
      "cell_type": "code",
      "source": [
        "# Check Unique Values for each variable.\n",
        "values = []\n",
        "for i in terror_master_data_full.columns:\n",
        "  values.append(terror_master_data_full[i].unique())\n",
        "\n",
        "values"
      ],
      "metadata": {
        "id": "zms12Yq5n-jE"
      },
      "execution_count": null,
      "outputs": []
    },
    {
      "cell_type": "markdown",
      "source": [
        "## 3. ***Data Wrangling***"
      ],
      "metadata": {
        "id": "dauF4eBmngu3"
      }
    },
    {
      "cell_type": "markdown",
      "source": [
        "### Data Wrangling Code"
      ],
      "metadata": {
        "id": "bKJF3rekwFvQ"
      }
    },
    {
      "cell_type": "code",
      "source": [
        "try:\n",
        "  #renaming columns\n",
        "  terror_master_data = terror_master_data_full.rename(columns={'iyear':'Year','imonth':'Month','iday':'Day','country_txt':'Country','provstate':'state','region_txt':'Region','attacktype1_txt':'AttackType','target1':'Target','nkill':'Killed','nwound':'Wounded','summary':'Summary','gname':'Group','targtype1_txt':'Target_type','weaptype1_txt':'Weapon_type','motive':'Motive','success':'Success'},inplace=True)\n",
        "  #Removing unwanted columns\n",
        "  terror_master_data =terror_master_data_full[['Year','Month','Day','Country','state','Region','city','latitude','longitude','AttackType','Killed','Wounded','Target','Summary','Group','Target_type','Weapon_type','Motive','Success']]\n",
        "except Exception as e:\n",
        "  print(e)"
      ],
      "metadata": {
        "id": "wk-9a2fpoLcV"
      },
      "execution_count": null,
      "outputs": []
    },
    {
      "cell_type": "markdown",
      "source": [
        "### What all manipulations have you done and insights you found?"
      ],
      "metadata": {
        "id": "MSa1f5Uengrz"
      }
    },
    {
      "cell_type": "markdown",
      "source": [
        "We have changed the column names to more useable names. Also since we found some columns vague and could not understand the values they contained, we filtered our data to include only workable columns"
      ],
      "metadata": {
        "id": "LbyXE7I1olp8"
      }
    },
    {
      "cell_type": "markdown",
      "source": [
        "## ***4. Data Vizualization, Storytelling & Experimenting with charts : Understand the relationships between variables***"
      ],
      "metadata": {
        "id": "GF8Ens_Soomf"
      }
    },
    {
      "cell_type": "markdown",
      "source": [
        "#### Chart - 1\n",
        "# Which countries of the world are most effected by terrorism?\n"
      ],
      "metadata": {
        "id": "0wOQAZs5pc--"
      }
    },
    {
      "cell_type": "code",
      "source": [
        "# Chart - 1 \n",
        "\n",
        "try:\n",
        "  country_wise_attack_count = terror_master_data ['Country'].value_counts()         #Counting number of times each country name appears\n",
        "  country_wise_attack_count.sort_values(axis =0 , inplace=True,ascending=[False] )   #Sorting countries as per no. of occurances\n",
        "except Exception as e:\n",
        "  print(e)\n",
        "else:\n",
        "  # Plotting bar graph for 20 countries\n",
        "  plt.rcParams['figure.figsize']=(15,8)\n",
        "  country_wise_attack_count[0:20:].plot(kind='barh', color = \"mediumvioletred\")\n",
        "  plt.title('Total terror attacks country wise')\n",
        "  plt.ylabel('Country')\n",
        "  plt.xlabel('Attack Count')"
      ],
      "metadata": {
        "id": "7v_ESjsspbW7"
      },
      "execution_count": null,
      "outputs": []
    },
    {
      "cell_type": "markdown",
      "source": [
        "##### 1. Why did you pick the specific chart?"
      ],
      "metadata": {
        "id": "K5QZ13OEpz2H"
      }
    },
    {
      "cell_type": "markdown",
      "source": [
        "Bar graphs provide a very **easy perception**. Humans have a better **understanding with length differences** than areas or angles. Hence, as we wanted to compare the attacks in different countries, we chose bar graph. Horizontal bar was chosen to accomodate more countries in the screen area."
      ],
      "metadata": {
        "id": "XESiWehPqBRc"
      }
    },
    {
      "cell_type": "markdown",
      "source": [
        "##### 2. What is/are the insight(s) found from the chart?"
      ],
      "metadata": {
        "id": "lQ7QKXXCp7Bj"
      }
    },
    {
      "cell_type": "markdown",
      "source": [
        "The chart clearly shows those countries which are most effected by terrorism. We inferred that the common denominator between countries like Iraq, Afghanistan, India was the fact that these countries have radical extrimist groups which may lead to dissent. "
      ],
      "metadata": {
        "id": "C_j1G7yiqdRP"
      }
    },
    {
      "cell_type": "markdown",
      "source": [
        "##### 3. Will the gained insights help creating a positive business impact? \n",
        "Are there any insights that lead to negative growth? Justify with specific reason."
      ],
      "metadata": {
        "id": "448CDAPjqfQr"
      }
    },
    {
      "cell_type": "markdown",
      "source": [
        "Yes, the gained insight can help other nations(like RAW,NIA in India) to better fortify their boundries and manage internal affairs better.\n",
        "A better undertsnding between neighbouring countries can decrease cross border terrorism"
      ],
      "metadata": {
        "id": "3cspy4FjqxJW"
      }
    },
    {
      "cell_type": "markdown",
      "source": [
        "#### Chart - 2\n",
        "2.Disturbances in different regions are caused by different( generally local) terrorist organisations. \n",
        "Analyse :\n",
        "i)  The main terrorist groups operating worldwide\n",
        "ii) Which is the most effected country"
      ],
      "metadata": {
        "id": "KSlN3yHqYklG"
      }
    },
    {
      "cell_type": "code",
      "source": [
        "# Chart - 2 visualization code\n",
        "\n",
        "try:\n",
        "  #Finding top 10 terror outfits of the world\n",
        "  terror_attack_count = terror_master_data['Group'].value_counts().head(10) \n",
        "\n",
        "  #Finding name of the most effected country    \n",
        "  mostEffectedCountry = terror_master_data ['Country'].value_counts().index[0] \n",
        "\n",
        "except Exception as e:\n",
        "  print(e)\n",
        "\n",
        "\n",
        "else:\n",
        "  print(\"*****************************************************\")\n",
        "  print(f\"The most effected country is {mostEffectedCountry}\")\n",
        "  print(\"*****************************************************\\n\")\n",
        "\n",
        "  #Plotting top 10 terror outfits of the world\n",
        "  plt.rcParams['figure.figsize']=(15,4)\n",
        "  terror_attack_count.plot(kind='bar', color = \"tab:purple\")\n",
        "\n",
        "  plt.title('Total Attacks by top 10 organisations (World Wide)')\n",
        "  plt.ylabel('Attack count')\n",
        "  plt.xlabel('Terror Group')\n",
        "  plt.show()"
      ],
      "metadata": {
        "id": "R4YgtaqtYklH"
      },
      "execution_count": null,
      "outputs": []
    },
    {
      "cell_type": "markdown",
      "source": [
        "##### 1. Why did you pick the specific chart?"
      ],
      "metadata": {
        "id": "t6dVpIINYklI"
      }
    },
    {
      "cell_type": "markdown",
      "source": [
        "We chose bar graph to show a comparitive study between terror attack counts of the top 10 globally. The length of the bars gives a relative idea about the count and difference between various terror groups"
      ],
      "metadata": {
        "id": "5aaW0BYyYklI"
      }
    },
    {
      "cell_type": "markdown",
      "source": [
        "##### 2. What is/are the insight(s) found from the chart?"
      ],
      "metadata": {
        "id": "ijmpgYnKYklI"
      }
    },
    {
      "cell_type": "markdown",
      "source": [
        "As we can see from the graph, majority of the terrorist attacks are conducted by 'Unknown' groups world wide and in the most effected nations."
      ],
      "metadata": {
        "id": "PSx9atu2YklI"
      }
    },
    {
      "cell_type": "markdown",
      "source": [
        "##### 3. Will the gained insights help creating a positive business impact? \n",
        "Are there any insights that lead to negative growth? Justify with specific reason."
      ],
      "metadata": {
        "id": "-JiQyfWJYklI"
      }
    },
    {
      "cell_type": "markdown",
      "source": [
        "Yes, the identified pattern can help World peacekeeping agencies to focus on identifying and keeping a watch on these 'Unknown' groups. Curbing the advances of these unknown terror outfits can strengthen national security."
      ],
      "metadata": {
        "id": "BcBbebzrYklV"
      }
    },
    {
      "cell_type": "markdown",
      "source": [
        "#### Chart - 3\n",
        "Analyse the birth and growth of Boko Harams in Nigeria. "
      ],
      "metadata": {
        "id": "EM7whBJCYoAo"
      }
    },
    {
      "cell_type": "code",
      "source": [
        "# Chart - 3 visualization code\n",
        "\n",
        "try:\n",
        "  # Filtering those records where Boko Harams have attacked Nigeria\n",
        "  nigeria_data =terror_master_data.loc[(terror_master_data['Country'] == 'Nigeria') & (terror_master_data['Group'] == 'Boko Haram')]\n",
        "\n",
        "  #Finding year wise count of the attacks\n",
        "  year_wise_attack_count = nigeria_data[['Year']].value_counts()\n",
        "\n",
        "  #Sorting records year wise\n",
        "  year_wise_attack_count.sort_index(axis =0 , inplace=True)\n",
        "  \n",
        "except Exception as e:\n",
        "    print(e)\n",
        "\n",
        "else:\n",
        "  \n",
        "  #Plotting line graph to show trend over the years\n",
        "  plt.rcParams['figure.figsize']=(10,5)\n",
        "  year_wise_attack_count.plot(kind='line', color = 'red', linewidth = 6)          \n",
        "  plt.title('Total terror attacks by Boko Harams in Nigeria')\n",
        "  \n",
        "  #Assigning labels for x and y axis\n",
        "  plt.ylabel('Attack count')\n",
        "  plt.xlabel('Year')\n"
      ],
      "metadata": {
        "id": "t6GMdE67YoAp"
      },
      "execution_count": null,
      "outputs": []
    },
    {
      "cell_type": "markdown",
      "source": [
        "##### 1. Why did you pick the specific chart?"
      ],
      "metadata": {
        "id": "fge-S5ZAYoAp"
      }
    },
    {
      "cell_type": "markdown",
      "source": [
        "As we wanted to show the trends for different time periods, we chose the line graph. It clearly depicts the rise and fall of the attacks done by the Boko Harams."
      ],
      "metadata": {
        "id": "5dBItgRVYoAp"
      }
    },
    {
      "cell_type": "markdown",
      "source": [
        "##### 2. What is/are the insight(s) found from the chart?"
      ],
      "metadata": {
        "id": "85gYPyotYoAp"
      }
    },
    {
      "cell_type": "markdown",
      "source": [
        "The graph clearly shows how Boko Harams who were a small resilience force from 2002 to 2009, rose as a terror group in  Nigeria between the years 2010 and 2012. In 2009, Boko Harams were subjected to excessive use of force by police, which triggered backlashes in the form of bombings and killings. This also questions the planning , proactiveness and policies of the then present government to resolve conflicts by meaningful dialogue."
      ],
      "metadata": {
        "id": "4jstXR6OYoAp"
      }
    },
    {
      "cell_type": "markdown",
      "source": [
        "##### 3. Will the gained insights help creating a positive business impact? \n",
        "Are there any insights that lead to negative growth? Justify with specific reason."
      ],
      "metadata": {
        "id": "RoGjAbkUYoAp"
      }
    },
    {
      "cell_type": "markdown",
      "source": [
        "This graph highlights 2012 and 2014 as the peak years of terror attacks by Boko Harams.In 2015 President Buhari made meaningful efforts in curbing Boko Harams in Nigeria.\n",
        "The efforts made by the President can be studied and replicated to ensure a positive change in the safety of Nigerians and other countries facing civil unrest worldwide."
      ],
      "metadata": {
        "id": "zfJ8IqMcYoAp"
      }
    },
    {
      "cell_type": "markdown",
      "source": [
        "#### Chart - 4\n",
        "\n",
        "Terrorism has always been an important reason for a strained relationship between Afghanistan and Pakistan? Which major terrorist organisations operate in these regions?"
      ],
      "metadata": {
        "id": "4Of9eVA-YrdM"
      }
    },
    {
      "cell_type": "code",
      "source": [
        "# Chart - 4 visualization code\n",
        "\n",
        "try:\n",
        "\n",
        "  #Finding all records related to Pakistan and Afghanistan\n",
        "  terror_groups =terror_master_data.loc[(terror_master_data['Country'] == 'Afghanistan')|(terror_master_data['Country'] == 'Pakistan')]\n",
        "  \n",
        "  #Finding number of attacks by different groups on these countries\n",
        "  total_attacks_pakAfg = terror_groups[['Group','Country']].value_counts().drop(\"Unknown\")\n",
        "  \n",
        "except Exception as e:\n",
        "  print(e)\n",
        "\n",
        "else:\n",
        "\n",
        "  #Plotting bar graph (Group,country) vs (No of attacks)\n",
        "  plt.rcParams['figure.figsize']=(20,8)\n",
        "  total_attacks_pakAfg.head(10).plot(kind='bar', color = \"tab:purple\")    #Taking top 10 values \n",
        "  plt.title('Total terror attacks by Common terror groups in Pakistan and Afghanistan')\n",
        "  plt.ylabel('Attack count')\n",
        "  plt.xlabel('Terror Group, Country')\n"
      ],
      "metadata": {
        "id": "irlUoxc8YrdO"
      },
      "execution_count": null,
      "outputs": []
    },
    {
      "cell_type": "markdown",
      "source": [
        "##### 1. Why did you pick the specific chart?"
      ],
      "metadata": {
        "id": "iky9q4vBYrdO"
      }
    },
    {
      "cell_type": "markdown",
      "source": [
        "We wanted to draw a comparison between the attacks made by major terror groups in Pakistan. It clarifies the trend of data better than a table."
      ],
      "metadata": {
        "id": "aJRCwT6DYrdO"
      }
    },
    {
      "cell_type": "markdown",
      "source": [
        "##### 2. What is/are the insight(s) found from the chart?"
      ],
      "metadata": {
        "id": "F6T5p64dYrdO"
      }
    },
    {
      "cell_type": "markdown",
      "source": [
        "Even a glimpse of the graph shows how powerful Taliban (Afghanistan and TTP) has been in the Pakistan-Afghanistan border regions. These two groups contribute to major terror attacks in the two countries. The terror caused by Taliban highlights its monetary power and resources even before it took over Afghanistan in 2021."
      ],
      "metadata": {
        "id": "Xx8WAJvtYrdO"
      }
    },
    {
      "cell_type": "markdown",
      "source": [
        "##### 3. Will the gained insights help creating a positive business impact? \n",
        "Are there any insights that lead to negative growth? Justify with specific reason."
      ],
      "metadata": {
        "id": "y-Ehk30pYrdP"
      }
    },
    {
      "cell_type": "markdown",
      "source": [
        "The gained insight could have been used by nations, Afghanistan and others to curb the advances of Taliban. \n",
        "\n",
        "Pakistan intelligence must keep a close watch on TTP to ensure they do not encounter a similar fate like Afghanistan."
      ],
      "metadata": {
        "id": "XeL_J77ZM7Ef"
      }
    },
    {
      "cell_type": "markdown",
      "source": [
        "#### Chart - 5\n",
        "Show the efforts of Jharkhand governments to reduce naxalism in their regions.\n"
      ],
      "metadata": {
        "id": "bamQiAODYuh1"
      }
    },
    {
      "cell_type": "code",
      "source": [
        "# Chart - 5 visualization code\n",
        "\n",
        "try:\n",
        "\n",
        "  #Finding records for the states where Maoists have attacked\n",
        "\n",
        "  #Jharkhand\n",
        "  terror_Jh=terror_master_data.loc[(terror_master_data['state'] == 'Jharkhand') & (terror_master_data['Group'] == 'Maoists')]\n",
        "\n",
        "  #Finding count of attacks by Maoists on the state year wise\n",
        "  jh_count = terror_Jh.groupby('Year').size()\n",
        "\n",
        "except Exception as e:\n",
        "  print(e)\n",
        "\n",
        "else:\n",
        "  #Plotting line graph\n",
        "  plt.plot(jh_count, linewidth = 10)\n",
        "  plt.legend([\"Jharkhand\"])\n",
        "  plt.show()"
      ],
      "metadata": {
        "id": "TIJwrbroYuh3"
      },
      "execution_count": null,
      "outputs": []
    },
    {
      "cell_type": "markdown",
      "source": [
        "##### 1. Why did you pick the specific chart?"
      ],
      "metadata": {
        "id": "QHF8YVU7Yuh3"
      }
    },
    {
      "cell_type": "markdown",
      "source": [
        "We wanted to show a trend in maoist activities in the state Jharkhand. Line graphs are a good choice to study trends or changes in patterns."
      ],
      "metadata": {
        "id": "dcxuIMRPYuh3"
      }
    },
    {
      "cell_type": "markdown",
      "source": [
        "##### 2. What is/are the insight(s) found from the chart?"
      ],
      "metadata": {
        "id": "GwzvFGzlYuh3"
      }
    },
    {
      "cell_type": "markdown",
      "source": [
        "We see a significant rise in Maosist activities in the year 2013.We infer that political unrest in Jharkhand in 2013 may have been a triggering point."
      ],
      "metadata": {
        "id": "CLAiZijOiCrN"
      }
    },
    {
      "cell_type": "markdown",
      "source": [
        "##### 3. Will the gained insights help creating a positive business impact? \n",
        "Implementing various government schemes in education, monetary grants like in states of Odisha to curb naxalism can help Jharkhand reduce maoist attacks in its region."
      ],
      "metadata": {
        "id": "qYpmQ266Yuh3"
      }
    },
    {
      "cell_type": "markdown",
      "source": [
        "#### Chart - 6\n",
        "Analyse the loss of human lives over the years.\n",
        "Is terrorism a greater menace in the Eastern or Western hemisphere?"
      ],
      "metadata": {
        "id": "OH-pJp9IphqM"
      }
    },
    {
      "cell_type": "code",
      "source": [
        "# Chart - 6 visualization code\n",
        "\n",
        "try:\n",
        "\n",
        "  #Counting casualities and wounded per year\n",
        "  casuality_count = terror_master_data.groupby('Year')[['Killed']].count()\n",
        "\n",
        "  #Counting casualities left and write of the 0 degree meridian\n",
        "  casuality_count_East = terror_master_data.loc[(terror_master_data['latitude'] > 0)].Killed.sum()\n",
        "  casuality_count_West = terror_master_data.loc[(terror_master_data['latitude'] < 0)].Killed.sum()\n",
        "\n",
        "except Exception as e:\n",
        "  print(e)\n",
        "\n",
        "else:\n",
        "\n",
        "  #Plotting casualities over the years\n",
        "  plt.rcParams['figure.figsize']=(20,8)\n",
        "  casuality_count.plot(kind='area')\n",
        "\n",
        "  # Printing results of casuality_count_East and casuality_count_West\n",
        "  print(\"_________________________________________________________________________________________________________ \\n\")\n",
        "\n",
        "  if casuality_count_East > casuality_count_West:\n",
        "    print(f\"Terrorism is a bigger menace in the Eastern countries. Loss of lives :  {casuality_count_East}\")\n",
        "\n",
        "  elif casuality_count_East < casuality_count_West:\n",
        "      print(f\"Terrorism is a bigger menace in the Western countries. Loss of lives :  {casuality_count_West}\")\n",
        "\n",
        "  else:\n",
        "    print(f\"the entire world is equally troubled by terrorism. Total loss of lives {casuality_count_East+casuality_count_West}\")\n",
        "    \n",
        "  print(\"_________________________________________________________________________________________________________ \\n\")\n",
        "\n"
      ],
      "metadata": {
        "id": "kuRf4wtuphqN"
      },
      "execution_count": null,
      "outputs": []
    },
    {
      "cell_type": "code",
      "source": [],
      "metadata": {
        "id": "bPdUiTxAn6kp"
      },
      "execution_count": null,
      "outputs": []
    },
    {
      "cell_type": "markdown",
      "source": [
        "##### 1. Why did you pick the specific chart?"
      ],
      "metadata": {
        "id": "bbFf2-_FphqN"
      }
    },
    {
      "cell_type": "markdown",
      "source": [
        "We wanted to illustrate trends over time, starting with a common baseline. "
      ],
      "metadata": {
        "id": "loh7H2nzphqN"
      }
    },
    {
      "cell_type": "markdown",
      "source": [
        "##### 2. What is/are the insight(s) found from the chart?"
      ],
      "metadata": {
        "id": "_ouA3fa0phqN"
      }
    },
    {
      "cell_type": "markdown",
      "source": [
        "This chart highlights how casuality count have been increasing over the years. "
      ],
      "metadata": {
        "id": "VECbqPI7phqN"
      }
    },
    {
      "cell_type": "markdown",
      "source": [
        "##### 3. Will the gained insights help creating a positive business impact? \n",
        "Are there any insights that lead to negative growth? Justify with specific reason."
      ],
      "metadata": {
        "id": "Seke61FWphqN"
      }
    },
    {
      "cell_type": "markdown",
      "source": [
        "The Eastern countries have been heavily impacted by terrorism. They must analyse the strategies of the western security agencies and implement them for safeguarding the Eastern part of the world as well "
      ],
      "metadata": {
        "id": "DW4_bGpfphqN"
      }
    },
    {
      "cell_type": "markdown",
      "source": [
        "#### Chart - 7\n",
        "Terrorist attacks are often well planned and strategically carried out operations. Analyse the success rates of some major terror outfits. Which organisations have the highest success rate?"
      ],
      "metadata": {
        "id": "PIIx-8_IphqN"
      }
    },
    {
      "cell_type": "code",
      "source": [
        "# Chart - 7 visualization code\n",
        "try:\n",
        "\n",
        "  #Counting total attacks by specific groups\n",
        "  totalAttacks = terror_master_data.groupby('Group')['Group'].count()\n",
        "\n",
        "  #Counting success of specific groups\n",
        "  success = terror_master_data.groupby('Group')[\"Success\"].sum()\n",
        "\n",
        "  #merging dataframes on Terror group names(Index)\n",
        "  successRate =  pd.merge(totalAttacks[0:10], success, how='inner', left_index=True, right_index=True)\n",
        "\n",
        "  # Calculating success rate : Success/Total * 100\n",
        "  successRate [\"SuccessRateValue\"] = (successRate[\"Success\"]/successRate[\"Group\"])*100\n",
        "  successRate.sort_values(by ='SuccessRateValue', inplace=True)\n",
        "  \n",
        "except Exception as e:\n",
        "  print(e)\n",
        "\n",
        "else:\n",
        "  #Plotting graph depicting success rate of 100 terror groups\n",
        "  sns.barplot(x = successRate.index, y =successRate['SuccessRateValue'] )\n"
      ],
      "metadata": {
        "id": "lqAIGUfyphqO"
      },
      "execution_count": null,
      "outputs": []
    },
    {
      "cell_type": "markdown",
      "source": [
        "##### 1. Why did you pick the specific chart?"
      ],
      "metadata": {
        "id": "t27r6nlMphqO"
      }
    },
    {
      "cell_type": "markdown",
      "source": [
        "We wanted to show a comparitive study between the success rates of 100 terrorist organisations worldwide. To picturize their values in a more unstandable form, we chose a bar graph"
      ],
      "metadata": {
        "id": "iv6ro40sphqO"
      }
    },
    {
      "cell_type": "markdown",
      "source": [
        "##### 2. What is/are the insight(s) found from the chart?"
      ],
      "metadata": {
        "id": "r2jJGEOYphqO"
      }
    },
    {
      "cell_type": "markdown",
      "source": [
        "The chart showcases 100% accuracy for majority of the terror groups chosen. It shows how accurately and strategically these attacks are planned. "
      ],
      "metadata": {
        "id": "Po6ZPi4hphqO"
      }
    },
    {
      "cell_type": "markdown",
      "source": [
        "##### 3. Will the gained insights help creating a positive business impact? \n",
        "Are there any insights that lead to negative growth? Justify with specific reason."
      ],
      "metadata": {
        "id": "b0JNsNcRphqO"
      }
    },
    {
      "cell_type": "markdown",
      "source": [
        "National security agencies can use this data to examine the reason for high success rates and also for low success rates of a few groups. The difference in their operating strategy can be understood to study patterns and foil more attacks in the future."
      ],
      "metadata": {
        "id": "xvSq8iUTphqO"
      }
    },
    {
      "cell_type": "markdown",
      "source": [
        "#### Chart - 8\n",
        "The way a terrorist attack is carried out differs from organisation to organisation. Compare the various attack types and their frequency?"
      ],
      "metadata": {
        "id": "BZR9WyysphqO"
      }
    },
    {
      "cell_type": "code",
      "source": [
        "# Chart - 8 visualization code\n",
        "\n",
        "try:\n",
        "    #Counting attacks by each weapon type\n",
        "  weapons_used = terror_master_data.Weapon_type.value_counts()\n",
        "except Exception as e:\n",
        "  print(e)\n",
        "else:\n",
        "  # Plotting pie chart\n",
        "  plt.rcParams['figure.figsize']=(15,8)\n",
        "  weapons_used.plot(kind = 'pie')"
      ],
      "metadata": {
        "id": "TdPTWpAVphqO"
      },
      "execution_count": null,
      "outputs": []
    },
    {
      "cell_type": "markdown",
      "source": [
        "##### 1. Why did you pick the specific chart?"
      ],
      "metadata": {
        "id": "jj7wYXLtphqO"
      }
    },
    {
      "cell_type": "markdown",
      "source": [
        "We wanted to show the contribution of each weapon in the overall weapons used. Hence to show the distribution out of total, we used a pie chart."
      ],
      "metadata": {
        "id": "Ob8u6rCTphqO"
      }
    },
    {
      "cell_type": "markdown",
      "source": [
        "##### 2. What is/are the insight(s) found from the chart?"
      ],
      "metadata": {
        "id": "eZrbJ2SmphqO"
      }
    },
    {
      "cell_type": "markdown",
      "source": [
        "The chart depicts how out of all the weapons used , almost 50% of attacks are done using explosives. Firearms are also a major weapon used by terrorists."
      ],
      "metadata": {
        "id": "mZtgC_hjphqO"
      }
    },
    {
      "cell_type": "markdown",
      "source": [
        "##### 3. Will the gained insights help creating a positive business impact? \n",
        "Are there any insights that lead to negative growth? Justify with specific reason."
      ],
      "metadata": {
        "id": "rFu4xreNphqO"
      }
    },
    {
      "cell_type": "markdown",
      "source": [
        "Yes this analysis can be used by security agencies to impose strict ban and increase vigilence on movement on particular substances especially the raw materials used to build explosives."
      ],
      "metadata": {
        "id": "ey_0qi68phqO"
      }
    },
    {
      "cell_type": "markdown",
      "source": [
        "#### Chart - 9\n",
        "Although terrorism has no religion, but terrorist organisations have specific targets. Who are the most vulnerable targets? Civilians, military or politicians?\n"
      ],
      "metadata": {
        "id": "YJ55k-q6phqO"
      }
    },
    {
      "cell_type": "code",
      "source": [
        "# Chart - 9 visualization code\n",
        "\n",
        "try:\n",
        "  #Counting terrorism targets\n",
        "  primary_target = terror_master_data.Target_type.value_counts()\n",
        "except Exception as e:\n",
        "  print(e)\n",
        "else:\n",
        "  #Plotting pie chart\n",
        "  plt.rcParams['figure.figsize']=(15,8)\n",
        "  plt.pie(primary_target, labels = primary_target.index)\n",
        "  plt.show()"
      ],
      "metadata": {
        "id": "B2aS4O1ophqO"
      },
      "execution_count": null,
      "outputs": []
    },
    {
      "cell_type": "markdown",
      "source": [
        "##### 1. Why did you pick the specific chart?"
      ],
      "metadata": {
        "id": "gCFgpxoyphqP"
      }
    },
    {
      "cell_type": "markdown",
      "source": [
        "To show distribution of social groups out of the total casualities/targets, we chose a pie chart"
      ],
      "metadata": {
        "id": "TVxDimi2phqP"
      }
    },
    {
      "cell_type": "markdown",
      "source": [
        "##### 2. What is/are the insight(s) found from the chart?"
      ],
      "metadata": {
        "id": "OVtJsKN_phqQ"
      }
    },
    {
      "cell_type": "markdown",
      "source": [
        "The primary target of terrorists are civilians and private property amounting to aoproximately 25%. Military, Police and Government officials are almost at equal risk.\n"
      ],
      "metadata": {
        "id": "ngGi97qjphqQ"
      }
    },
    {
      "cell_type": "markdown",
      "source": [
        "##### 3. Will the gained insights help creating a positive business impact? \n",
        "Are there any insights that lead to negative growth? Justify with specific reason."
      ],
      "metadata": {
        "id": "lssrdh5qphqQ"
      }
    },
    {
      "cell_type": "markdown",
      "source": [
        "This insight can be used to improve security in public places. The distribution clearly shows that since the terrorists have no personal disputes with the civilians the purpose is primarily to create fear.\n",
        "\n",
        "\n"
      ],
      "metadata": {
        "id": "tBpY5ekJphqQ"
      }
    },
    {
      "cell_type": "markdown",
      "source": [
        "#### Chart - 10\n",
        "India have been a terror attack prone nation. Which cities in India have been the primary target of the terrorists?"
      ],
      "metadata": {
        "id": "U2RJ9gkRphqQ"
      }
    },
    {
      "cell_type": "code",
      "source": [
        "# Chart - 10 visualization code\n",
        "try:\n",
        "  #Filtering records of India\n",
        "  terror_data_India =terror_master_data.loc[terror_master_data['Country'] == 'India']\n",
        "\n",
        "  #Grouping cities and sorting them by number of successful terrorist attacks\n",
        "  terror_data_Indian_cities = terror_data_India.groupby('city')['Success'].sum()\n",
        "  terror_data_Indian_cities.sort_values(axis =0 , inplace=True, ascending=[False])\n",
        "\n",
        "except Exception as e:\n",
        "  print(e)\n",
        "\n",
        "else:\n",
        "  #Plotting graph to show 20 majir terrorist targets in India \n",
        "  terror_data_Indian_cities[0:20].plot(kind=\"bar\" , color = 'darkcyan')"
      ],
      "metadata": {
        "id": "GM7a4YP4phqQ"
      },
      "execution_count": null,
      "outputs": []
    },
    {
      "cell_type": "markdown",
      "source": [
        "##### 1. Why did you pick the specific chart?"
      ],
      "metadata": {
        "id": "1M8mcRywphqQ"
      }
    },
    {
      "cell_type": "markdown",
      "source": [
        "We wanted to show the most terror prone cities of India and also how they were related to other terror prone cities(in terms of number of attacks). Hence we chose a bar plot"
      ],
      "metadata": {
        "id": "8agQvks0phqQ"
      }
    },
    {
      "cell_type": "markdown",
      "source": [
        "##### 2. What is/are the insight(s) found from the chart?"
      ],
      "metadata": {
        "id": "tgIPom80phqQ"
      }
    },
    {
      "cell_type": "markdown",
      "source": [
        "The disturbances in the Indian state of Jammu & Kashmir can be easily deciphered from the presence of Srinagar at the top spot. A glimpse of the chart shows how terror prone the northern cities of India are to terrorism"
      ],
      "metadata": {
        "id": "Qp13pnNzphqQ"
      }
    },
    {
      "cell_type": "markdown",
      "source": [
        "##### 3. Will the gained insights help creating a positive business impact? \n",
        "Are there any insights that lead to negative growth? Justify with specific reason."
      ],
      "metadata": {
        "id": "JMzcOPDDphqR"
      }
    },
    {
      "cell_type": "markdown",
      "source": [
        "The gained insight can be helpful to deploy forces in terror prone regions.More vigilance in and around these cities could lead to a negative growth of terrorism in India"
      ],
      "metadata": {
        "id": "R4Ka1PC2phqR"
      }
    },
    {
      "cell_type": "markdown",
      "source": [
        "The government and security agencies can use this insight to study what lapses causes terrorist activities to rise in 3-4 years duration after declining. The trend also shows the successful attempts by the government to curb terrorism in Mumbai and the efforts must be continued."
      ],
      "metadata": {
        "id": "druuKYZpp1ck"
      }
    },
    {
      "cell_type": "markdown",
      "source": [
        "## Chart - 11\n",
        "\n",
        "Potray the region wise count of these ghastly attacks."
      ],
      "metadata": {
        "id": "Ag9LCva-p1cl"
      }
    },
    {
      "cell_type": "code",
      "source": [
        "# Chart - 13 visualization code\n",
        "\n",
        "try:\n",
        "  regionAttacks = terror_master_data.groupby('Region')['Group'].count()\n",
        "  # print(monthlyAttacks)\n",
        "except Exception as e:\n",
        "  print (e)\n",
        "else:\n",
        "  regionAttacks.plot(kind = 'pie')\n",
        "  plt.show()"
      ],
      "metadata": {
        "id": "EUfxeq9-p1cl"
      },
      "execution_count": null,
      "outputs": []
    },
    {
      "cell_type": "markdown",
      "source": [
        "##### 1. Why did you pick the specific chart?"
      ],
      "metadata": {
        "id": "E6MkPsBcp1cl"
      }
    },
    {
      "cell_type": "markdown",
      "source": [
        "In order to show the percentage of distribution in each region out of total this chart was chosen"
      ],
      "metadata": {
        "id": "V22bRsFWp1cl"
      }
    },
    {
      "cell_type": "markdown",
      "source": [
        "##### 2. What is/are the insight(s) found from the chart?"
      ],
      "metadata": {
        "id": "2cELzS2fp1cl"
      }
    },
    {
      "cell_type": "markdown",
      "source": [
        "This pie chart clearly depics how Middle East and South Asia regions are hugely effected by terroroism as compared to the others"
      ],
      "metadata": {
        "id": "ozQPc2_Ip1cl"
      }
    },
    {
      "cell_type": "markdown",
      "source": [
        "# **Chart 12**"
      ],
      "metadata": {
        "id": "HvKbS-q_-w9t"
      }
    },
    {
      "cell_type": "markdown",
      "source": [
        "Chart 12\n",
        "\n",
        "On which day of the week has India and its neighbouring countries lost most lives to terrorism? Analyse."
      ],
      "metadata": {
        "id": "tqYCzJaC-10w"
      }
    },
    {
      "cell_type": "code",
      "source": [
        "def getWeekdayCount():\n",
        "  #Filtering data of India and its neighbours\n",
        "  filtered_terror_data =  terror_master_data[(terror_master_data['Country'] == 'India')|(terror_master_data['Country'] == 'Pakistan')|(terror_master_data['Country'] == 'Afghanistan')]\n",
        "  #Selecting specific columns\n",
        "  filtered_terror_data = filtered_terror_data[['Killed','Wounded','Year','Month','Day']]\n",
        "  #Creating a blank column\n",
        "  filtered_terror_data['DayOfWeek']=[\"\"]*len(filtered_terror_data)\n",
        "  weekdays = [\"Monday\",\"Tuesday\",\"Wednesday\",\"Thursday\",\"Friday\",\"Saturday\",\"Sunday\",\"Inconclusive(incorrect date)\"]\n",
        "  weekdata =[]\n",
        "  #Iterating through rows of the dataset\n",
        "  for x in filtered_terror_data.iterrows():\n",
        "    x= list(x)\n",
        "\n",
        "    try:\n",
        "      d = date(int(x[1][2]) , int(x[1][3]) ,int(x[1][4])).weekday()                                   #Converting date in yyyy,mm,dd format and finding corresponding day\n",
        "      weekdata.append(weekdays[d])\n",
        "    except:\n",
        "      weekdata.append(\"Inconclusive(invalid day, date or year\")\n",
        "\n",
        "  filtered_terror_data['DayOfWeek'] = weekdata\n",
        "  #Finding number of people killed on each day of the week\n",
        "  filtered_terror_data = filtered_terror_data.groupby(\"DayOfWeek\")[\"Killed\"].sum()\n",
        "  # print(filtered_terror_data)\n",
        "  sns.barplot(x = filtered_terror_data.index, y = filtered_terror_data.values)\n",
        "\n",
        "getWeekdayCount()\n"
      ],
      "metadata": {
        "id": "znKdNP88--ji"
      },
      "execution_count": null,
      "outputs": []
    },
    {
      "cell_type": "markdown",
      "source": [
        "## **5. Solution to Business Objective**"
      ],
      "metadata": {
        "id": "JcMwzZxoAimU"
      }
    },
    {
      "cell_type": "markdown",
      "source": [
        "#### What do you suggest the client to achieve Business Objective ? \n",
        "Explain Briefly."
      ],
      "metadata": {
        "id": "8G2x9gOozGDZ"
      }
    },
    {
      "cell_type": "markdown",
      "source": [
        "In order to achieve business objective, I would suggest the following based on my observation and analysis:\n",
        "\n",
        "*   Identification of unknown terror groups\n",
        "*   Promoting scientific education for religious extremists\n",
        "*   Addressing issues of resilient forces before they become larger terror groups\n",
        "*   Keeping a strict vigilance of movement of raw materials used for manufacture of explosives\n",
        "*   More deployment of armed forces in Northern parts of India\n",
        "\n",
        "\n",
        "\n",
        "\n",
        "\n"
      ],
      "metadata": {
        "id": "pASKb0qOza21"
      }
    },
    {
      "cell_type": "markdown",
      "source": [
        "# **Conclusion**"
      ],
      "metadata": {
        "id": "gCX9965dhzqZ"
      }
    },
    {
      "cell_type": "markdown",
      "source": [
        "*   This project uses historical data  of terrorist attacks that took place around the world in between 1970 to 2017, and contains information on over 200,000 terrorist attacks.\n",
        "*  In this project we saw that which countries are  least affected and which countries are  most affected by the terrorist attacks. And Taliban group  were the most attackers in the history of terrorist attacks.\n",
        "In this project we analysed how they plan and attack countries and who they target.The primary target of terrorists are civilians and private property amounting  to approximate 25% of military, police,  and Government officials are in risk."
      ],
      "metadata": {
        "id": "Fjb1IsQkh3yE"
      }
    },
    {
      "cell_type": "markdown",
      "source": [
        "### ***Hurrah! You have successfully completed your EDA Capstone Project !!!***"
      ],
      "metadata": {
        "id": "gIfDvo9L0UH2"
      }
    }
  ]
}